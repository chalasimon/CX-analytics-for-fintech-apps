{
 "cells": [
  {
   "cell_type": "markdown",
   "id": "a296f3b5",
   "metadata": {},
   "source": [
    "# Task 2: Sentiment and Thematic Analysis"
   ]
  }
 ],
 "metadata": {
  "language_info": {
   "name": "python"
  }
 },
 "nbformat": 4,
 "nbformat_minor": 5
}
