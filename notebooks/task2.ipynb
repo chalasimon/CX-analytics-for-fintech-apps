{
 "cells": [
  {
   "cell_type": "markdown",
   "id": "a296f3b5",
   "metadata": {},
   "source": [
    "# Task 2: Sentiment and Thematic Analysis"
   ]
  },
  {
   "cell_type": "code",
   "execution_count": 1,
   "id": "822738a4",
   "metadata": {},
   "outputs": [],
   "source": [
    "import sys\n",
    "import os\n",
    "import pandas as pd\n",
    "from glob import glob"
   ]
  },
  {
   "cell_type": "code",
   "execution_count": 2,
   "id": "45fdb660",
   "metadata": {},
   "outputs": [],
   "source": [
    "from pathlib import Path\n",
    "from importlib import reload\n",
    "# add the project root to the path\n",
    "project_root = Path(\"..\").resolve()\n",
    "if str(project_root) not in sys.path:\n",
    "    sys.path.insert(0, str(project_root))"
   ]
  },
  {
   "cell_type": "markdown",
   "id": "01fd81a8",
   "metadata": {},
   "source": [
    "## Sentiment Analysis"
   ]
  },
  {
   "cell_type": "markdown",
   "id": "5bf7bf50",
   "metadata": {},
   "source": [
    "### importing datasets"
   ]
  },
  {
   "cell_type": "code",
   "execution_count": 3,
   "id": "db570956",
   "metadata": {},
   "outputs": [
    {
     "data": {
      "text/plain": [
       "<module 'src.data_loader' from 'D:\\\\Research & Project\\\\10academy\\\\week 2\\\\challenge\\\\CX-analytics-for-fintech-apps\\\\src\\\\data_loader.py'>"
      ]
     },
     "execution_count": 3,
     "metadata": {},
     "output_type": "execute_result"
    }
   ],
   "source": [
    "# import the module\n",
    "# In this task, we will load the cleaned the dataset for further analysis.\n",
    "# First, we will load the module for data loading\n",
    "from src.data_loader import DataLoader\n",
    "import src.data_loader\n",
    "reload(src.data_loader)"
   ]
  },
  {
   "cell_type": "code",
   "execution_count": 4,
   "id": "69eeeba6",
   "metadata": {},
   "outputs": [],
   "source": [
    "data_path='../data/processed/'\n",
    "# Load the dataset\n",
    "data_loader = DataLoader(data_path)\n",
    "data = data_loader.load_data('combined_preprocessed.csv')"
   ]
  },
  {
   "cell_type": "code",
   "execution_count": 5,
   "id": "07e30038",
   "metadata": {},
   "outputs": [
    {
     "name": "stdout",
     "output_type": "stream",
     "text": [
      "First few rows of the dataset:\n"
     ]
    },
    {
     "data": {
      "application/vnd.microsoft.datawrangler.viewer.v0+json": {
       "columns": [
        {
         "name": "index",
         "rawType": "int64",
         "type": "integer"
        },
        {
         "name": "review_text",
         "rawType": "object",
         "type": "string"
        },
        {
         "name": "rating",
         "rawType": "int64",
         "type": "integer"
        },
        {
         "name": "date",
         "rawType": "object",
         "type": "string"
        },
        {
         "name": "bank_name",
         "rawType": "object",
         "type": "string"
        },
        {
         "name": "source",
         "rawType": "object",
         "type": "string"
        }
       ],
       "ref": "b9c6daf3-9597-4807-9d04-674e0668c5bc",
       "rows": [
        [
         "0",
         "Hello, I’m facing a problem with the BOA Mobile app. Every time I enter my phone number and password, the app crashes and shows an error that says “BoaMobile closed because this app has a bug.” I tried updating, reinstalling, and clearing cache, but nothing worked. Please fix this bug in the next update. I really need access to my account. Thank you.",
         "1",
         "2025-06-03",
         "BOA",
         "Google Play"
        ],
        [
         "1",
         "this is worest app 24/7 loading",
         "1",
         "2025-06-01",
         "BOA",
         "Google Play"
        ],
        [
         "2",
         "This App is not interest for Android phone Please update it .",
         "1",
         "2025-06-01",
         "BOA",
         "Google Play"
        ],
        [
         "3",
         "BoA system is confartable",
         "5",
         "2025-06-01",
         "BOA",
         "Google Play"
        ],
        [
         "4",
         "very nice Abyssinia bank is choice all",
         "5",
         "2025-05-31",
         "BOA",
         "Google Play"
        ],
        [
         "5",
         "this app, for me , is a waste of time. It doesn't work . I can't even long in, and it really piss me off. FIX THE PROBLEM",
         "1",
         "2025-05-27",
         "BOA",
         "Google Play"
        ],
        [
         "6",
         "Good service.",
         "3",
         "2025-05-25",
         "BOA",
         "Google Play"
        ],
        [
         "7",
         "the app crush frequently",
         "1",
         "2025-05-24",
         "BOA",
         "Google Play"
        ],
        [
         "8",
         "This app is a joke. It crashes more than it works, takes forever to load, and half the features are just decorative at this point. Can’t log in, can’t transfer money, can’t even check my balance without it bugging out. To the developer: Are you actually trying to make this work, or is this some kind of social experiment to test our patience? Did you build this in your sleep? Because it definitely looks like it. If this is your idea of a functional app, maybe consider a different career path🙏",
         "1",
         "2025-05-21",
         "BOA",
         "Google Play"
        ],
        [
         "9",
         "BoA",
         "2",
         "2025-05-20",
         "BOA",
         "Google Play"
        ],
        [
         "10",
         "but not opening on android",
         "4",
         "2025-05-19",
         "BOA",
         "Google Play"
        ],
        [
         "11",
         "Worst App ever. Totally unreliable. And it didn't work at all for the last 4 months.",
         "1",
         "2025-05-18",
         "BOA",
         "Google Play"
        ],
        [
         "12",
         "this app does no work on Samsung a51, it just gives a preview of the logo",
         "1",
         "2025-05-11",
         "BOA",
         "Google Play"
        ],
        [
         "13",
         "i entered incorrect security question by mistake boa app lock pin forever, why is there no other options? ?? i contacted different branchs more then 4times but they didn't able to solve this issue .",
         "5",
         "2025-05-10",
         "BOA",
         "Google Play"
        ],
        [
         "14",
         "liking this application good 👍",
         "5",
         "2025-05-07",
         "BOA",
         "Google Play"
        ],
        [
         "15",
         "This app future is good, but there is problems with apps to reset and activate it, which is difficult even to the branch staffs, and it takes too long times to active at the branch plus most of the time high expected failure of activation after process at the counter and OTP sent not work",
         "1",
         "2025-05-06",
         "BOA",
         "Google Play"
        ],
        [
         "16",
         "it's really good 👍",
         "5",
         "2025-04-23",
         "BOA",
         "Google Play"
        ],
        [
         "17",
         "Bad app . it stuck when you open and noting WORKS.",
         "1",
         "2025-04-23",
         "BOA",
         "Google Play"
        ],
        [
         "18",
         "the app isn't working after it asked me the password it starts loading, but it doesn't open",
         "3",
         "2025-04-20",
         "BOA",
         "Google Play"
        ],
        [
         "19",
         "It keeps showing this pop up to turn off developer options even tho it's off! I had to turn on and then off to make it work! This is a horrible experience and needs a fix asap! Plus kinda slow.",
         "1",
         "2025-04-19",
         "BOA",
         "Google Play"
        ],
        [
         "20",
         "great boa",
         "5",
         "2025-04-10",
         "BOA",
         "Google Play"
        ],
        [
         "21",
         "boa of mobile backing",
         "5",
         "2025-04-09",
         "BOA",
         "Google Play"
        ],
        [
         "22",
         "faster bank of Abissinya",
         "5",
         "2025-04-08",
         "BOA",
         "Google Play"
        ],
        [
         "23",
         "i would have given it a lower if it was possible because it crush so much and it take the bank so long to fix the bug",
         "1",
         "2025-04-08",
         "BOA",
         "Google Play"
        ],
        [
         "24",
         "it just doesn't work...so frustrating",
         "1",
         "2025-04-07",
         "BOA",
         "Google Play"
        ],
        [
         "25",
         "it's not work correctly... you must have update it",
         "1",
         "2025-04-06",
         "BOA",
         "Google Play"
        ],
        [
         "26",
         "the app gets a considerable improvements like language , QR scanner and unlimited transfers survice. but BOA Please do alot on its fastness and convenient when we login and making a transactions.",
         "5",
         "2025-04-04",
         "BOA",
         "Google Play"
        ],
        [
         "27",
         "after i typed in my password it says successfully logged out ...and goes back to the first page",
         "2",
         "2025-04-04",
         "BOA",
         "Google Play"
        ],
        [
         "28",
         "good but they don't update enough don't add new things",
         "3",
         "2025-04-04",
         "BOA",
         "Google Play"
        ],
        [
         "29",
         "thank you",
         "5",
         "2025-04-02",
         "BOA",
         "Google Play"
        ],
        [
         "30",
         "it doesn't work period z slowest mobile banking ever i would rather use *815#",
         "1",
         "2025-04-01",
         "BOA",
         "Google Play"
        ],
        [
         "31",
         "after activated the application it not allowed to sign , automatically it is turn off In my phone, why ?",
         "1",
         "2025-03-31",
         "BOA",
         "Google Play"
        ],
        [
         "32",
         "good application",
         "5",
         "2025-03-30",
         "BOA",
         "Google Play"
        ],
        [
         "33",
         "this version is not working for me I cannot even buy card. I cannot send money",
         "1",
         "2025-03-30",
         "BOA",
         "Google Play"
        ],
        [
         "34",
         "It can't actively on initialization, it says incorrect OTP getting the exact OTP",
         "1",
         "2025-03-29",
         "BOA",
         "Google Play"
        ],
        [
         "35",
         "always problematic hardly works",
         "1",
         "2025-03-26",
         "BOA",
         "Google Play"
        ],
        [
         "36",
         "considering the fact the bank is huge this app really bad you could do better",
         "1",
         "2025-03-25",
         "BOA",
         "Google Play"
        ],
        [
         "37",
         "worst app and Bank ever u be ashamed, scammer",
         "1",
         "2025-03-24",
         "BOA",
         "Google Play"
        ],
        [
         "38",
         "great BoA",
         "5",
         "2025-03-22",
         "BOA",
         "Google Play"
        ],
        [
         "39",
         "i have went to the bank so many times because i couldn't make any transaction i can only see my balance nothing else so what is the point of having mobile banking if i can't make any transaction with it please work in that",
         "1",
         "2025-03-21",
         "BOA",
         "Google Play"
        ],
        [
         "40",
         "there is no speed",
         "1",
         "2025-03-19",
         "BOA",
         "Google Play"
        ],
        [
         "41",
         "For anyone who wants to download it, just don't!!!",
         "1",
         "2025-03-19",
         "BOA",
         "Google Play"
        ],
        [
         "42",
         "all worck",
         "5",
         "2025-03-19",
         "BOA",
         "Google Play"
        ],
        [
         "43",
         "Loved it",
         "5",
         "2025-03-14",
         "BOA",
         "Google Play"
        ],
        [
         "44",
         "Edit: New bug, app not letting me type in my otp codes. Shameful Why does this app not allow me to use it while having developer options on? Did y'all consider that I might, perhaps, be an actual developer? Why am I expected to toggle the option on and off just to bank (restarting my phone when I do)? Why is the message labled as somthing that will \"smoothen\" the experience? This is like the most \"security consultant\" thing to implement in an app. Please invest in actual security, not this mess.",
         "1",
         "2025-03-12",
         "BOA",
         "Google Play"
        ],
        [
         "45",
         "Improved to be the best",
         "5",
         "2025-03-11",
         "BOA",
         "Google Play"
        ],
        [
         "46",
         "Decent, but there problems sometimes it says error When i transfer money but infact it transferred because of this bug i transferred 2 times instead of 1 and also we can't transfer money to others telebirr acc we only can to our self BOE Dev fix this !!!",
         "3",
         "2025-03-11",
         "BOA",
         "Google Play"
        ],
        [
         "47",
         "BoA Greqt Ethiopian bank.",
         "5",
         "2025-03-11",
         "BOA",
         "Google Play"
        ],
        [
         "48",
         "The bug is still there,the app crashes every time i try to log in, especially in old phones like my Galaxy A32",
         "1",
         "2025-03-10",
         "BOA",
         "Google Play"
        ],
        [
         "49",
         "Almost better compared to cbe where it is not qualified for",
         "4",
         "2025-03-09",
         "BOA",
         "Google Play"
        ]
       ],
       "shape": {
        "columns": 5,
        "rows": 1430
       }
      },
      "text/html": [
       "<div>\n",
       "<style scoped>\n",
       "    .dataframe tbody tr th:only-of-type {\n",
       "        vertical-align: middle;\n",
       "    }\n",
       "\n",
       "    .dataframe tbody tr th {\n",
       "        vertical-align: top;\n",
       "    }\n",
       "\n",
       "    .dataframe thead th {\n",
       "        text-align: right;\n",
       "    }\n",
       "</style>\n",
       "<table border=\"1\" class=\"dataframe\">\n",
       "  <thead>\n",
       "    <tr style=\"text-align: right;\">\n",
       "      <th></th>\n",
       "      <th>review_text</th>\n",
       "      <th>rating</th>\n",
       "      <th>date</th>\n",
       "      <th>bank_name</th>\n",
       "      <th>source</th>\n",
       "    </tr>\n",
       "  </thead>\n",
       "  <tbody>\n",
       "    <tr>\n",
       "      <th>0</th>\n",
       "      <td>Hello, I’m facing a problem with the BOA Mobil...</td>\n",
       "      <td>1</td>\n",
       "      <td>2025-06-03</td>\n",
       "      <td>BOA</td>\n",
       "      <td>Google Play</td>\n",
       "    </tr>\n",
       "    <tr>\n",
       "      <th>1</th>\n",
       "      <td>this is worest app 24/7 loading</td>\n",
       "      <td>1</td>\n",
       "      <td>2025-06-01</td>\n",
       "      <td>BOA</td>\n",
       "      <td>Google Play</td>\n",
       "    </tr>\n",
       "    <tr>\n",
       "      <th>2</th>\n",
       "      <td>This App is not interest for Android phone Ple...</td>\n",
       "      <td>1</td>\n",
       "      <td>2025-06-01</td>\n",
       "      <td>BOA</td>\n",
       "      <td>Google Play</td>\n",
       "    </tr>\n",
       "    <tr>\n",
       "      <th>3</th>\n",
       "      <td>BoA system is confartable</td>\n",
       "      <td>5</td>\n",
       "      <td>2025-06-01</td>\n",
       "      <td>BOA</td>\n",
       "      <td>Google Play</td>\n",
       "    </tr>\n",
       "    <tr>\n",
       "      <th>4</th>\n",
       "      <td>very nice Abyssinia bank is choice all</td>\n",
       "      <td>5</td>\n",
       "      <td>2025-05-31</td>\n",
       "      <td>BOA</td>\n",
       "      <td>Google Play</td>\n",
       "    </tr>\n",
       "    <tr>\n",
       "      <th>...</th>\n",
       "      <td>...</td>\n",
       "      <td>...</td>\n",
       "      <td>...</td>\n",
       "      <td>...</td>\n",
       "      <td>...</td>\n",
       "    </tr>\n",
       "    <tr>\n",
       "      <th>1425</th>\n",
       "      <td>App That makes Difference!</td>\n",
       "      <td>5</td>\n",
       "      <td>2025-01-14</td>\n",
       "      <td>Dashen</td>\n",
       "      <td>Google Play</td>\n",
       "    </tr>\n",
       "    <tr>\n",
       "      <th>1426</th>\n",
       "      <td>Waw Great and innovated,user friendly, always ...</td>\n",
       "      <td>5</td>\n",
       "      <td>2025-01-13</td>\n",
       "      <td>Dashen</td>\n",
       "      <td>Google Play</td>\n",
       "    </tr>\n",
       "    <tr>\n",
       "      <th>1427</th>\n",
       "      <td>It's Best waww 🙏</td>\n",
       "      <td>5</td>\n",
       "      <td>2025-01-13</td>\n",
       "      <td>Dashen</td>\n",
       "      <td>Google Play</td>\n",
       "    </tr>\n",
       "    <tr>\n",
       "      <th>1428</th>\n",
       "      <td>Always one step ahead</td>\n",
       "      <td>5</td>\n",
       "      <td>2025-01-13</td>\n",
       "      <td>Dashen</td>\n",
       "      <td>Google Play</td>\n",
       "    </tr>\n",
       "    <tr>\n",
       "      <th>1429</th>\n",
       "      <td>Like Me, I Hope It Works Better Than Before.</td>\n",
       "      <td>5</td>\n",
       "      <td>2025-01-11</td>\n",
       "      <td>Dashen</td>\n",
       "      <td>Google Play</td>\n",
       "    </tr>\n",
       "  </tbody>\n",
       "</table>\n",
       "<p>1430 rows × 5 columns</p>\n",
       "</div>"
      ],
      "text/plain": [
       "                                            review_text  rating        date  \\\n",
       "0     Hello, I’m facing a problem with the BOA Mobil...       1  2025-06-03   \n",
       "1                       this is worest app 24/7 loading       1  2025-06-01   \n",
       "2     This App is not interest for Android phone Ple...       1  2025-06-01   \n",
       "3                             BoA system is confartable       5  2025-06-01   \n",
       "4                very nice Abyssinia bank is choice all       5  2025-05-31   \n",
       "...                                                 ...     ...         ...   \n",
       "1425                         App That makes Difference!       5  2025-01-14   \n",
       "1426  Waw Great and innovated,user friendly, always ...       5  2025-01-13   \n",
       "1427                                   It's Best waww 🙏       5  2025-01-13   \n",
       "1428                              Always one step ahead       5  2025-01-13   \n",
       "1429       Like Me, I Hope It Works Better Than Before.       5  2025-01-11   \n",
       "\n",
       "     bank_name       source  \n",
       "0          BOA  Google Play  \n",
       "1          BOA  Google Play  \n",
       "2          BOA  Google Play  \n",
       "3          BOA  Google Play  \n",
       "4          BOA  Google Play  \n",
       "...        ...          ...  \n",
       "1425    Dashen  Google Play  \n",
       "1426    Dashen  Google Play  \n",
       "1427    Dashen  Google Play  \n",
       "1428    Dashen  Google Play  \n",
       "1429    Dashen  Google Play  \n",
       "\n",
       "[1430 rows x 5 columns]"
      ]
     },
     "execution_count": 5,
     "metadata": {},
     "output_type": "execute_result"
    }
   ],
   "source": [
    "### Display the first few rows of the dataset\n",
    "print(\"First few rows of the dataset:\")\n",
    "data"
   ]
  },
  {
   "cell_type": "markdown",
   "id": "6e5f2eea",
   "metadata": {},
   "source": [
    "### preprocessing for sentiment analysis"
   ]
  },
  {
   "cell_type": "code",
   "execution_count": 6,
   "id": "68b31235",
   "metadata": {},
   "outputs": [
    {
     "name": "stderr",
     "output_type": "stream",
     "text": [
      "[nltk_data] Downloading package punkt to\n",
      "[nltk_data]     C:\\Users\\chall\\AppData\\Roaming\\nltk_data...\n",
      "[nltk_data]   Package punkt is already up-to-date!\n",
      "[nltk_data] Downloading package stopwords to\n",
      "[nltk_data]     C:\\Users\\chall\\AppData\\Roaming\\nltk_data...\n",
      "[nltk_data]   Package stopwords is already up-to-date!\n",
      "[nltk_data] Downloading package wordnet to\n",
      "[nltk_data]     C:\\Users\\chall\\AppData\\Roaming\\nltk_data...\n",
      "[nltk_data]   Package wordnet is already up-to-date!\n",
      "[nltk_data] Downloading package punkt_tab to\n",
      "[nltk_data]     C:\\Users\\chall\\AppData\\Roaming\\nltk_data...\n",
      "[nltk_data]   Package punkt_tab is already up-to-date!\n",
      "[nltk_data] Downloading package punkt to\n",
      "[nltk_data]     C:\\Users\\chall\\AppData\\Roaming\\nltk_data...\n",
      "[nltk_data]   Package punkt is already up-to-date!\n",
      "[nltk_data] Downloading package stopwords to\n",
      "[nltk_data]     C:\\Users\\chall\\AppData\\Roaming\\nltk_data...\n",
      "[nltk_data]   Package stopwords is already up-to-date!\n",
      "[nltk_data] Downloading package wordnet to\n",
      "[nltk_data]     C:\\Users\\chall\\AppData\\Roaming\\nltk_data...\n",
      "[nltk_data]   Package wordnet is already up-to-date!\n",
      "[nltk_data] Downloading package punkt_tab to\n",
      "[nltk_data]     C:\\Users\\chall\\AppData\\Roaming\\nltk_data...\n",
      "[nltk_data]   Package punkt_tab is already up-to-date!\n"
     ]
    },
    {
     "data": {
      "text/plain": [
       "<module 'src.sentiment_analysis.preprocessing' from 'D:\\\\Research & Project\\\\10academy\\\\week 2\\\\challenge\\\\CX-analytics-for-fintech-apps\\\\src\\\\sentiment_analysis\\\\preprocessing.py'>"
      ]
     },
     "execution_count": 6,
     "metadata": {},
     "output_type": "execute_result"
    }
   ],
   "source": [
    "# import the module\n",
    "from src.sentiment_analysis.preprocessing import Preprocessor\n",
    "import src.sentiment_analysis.preprocessing\n",
    "# Reload the module to ensure we have the latest version\n",
    "reload(src.sentiment_analysis.preprocessing)"
   ]
  },
  {
   "cell_type": "code",
   "execution_count": 7,
   "id": "abc7a6ec",
   "metadata": {},
   "outputs": [],
   "source": [
    "# preprocess the data\n",
    "preprocessor = Preprocessor()\n",
    "data = preprocessor.preprocess_dataframe(data,'review_text')"
   ]
  },
  {
   "cell_type": "code",
   "execution_count": 8,
   "id": "b8ab20ae",
   "metadata": {},
   "outputs": [
    {
     "data": {
      "application/vnd.microsoft.datawrangler.viewer.v0+json": {
       "columns": [
        {
         "name": "index",
         "rawType": "int64",
         "type": "integer"
        },
        {
         "name": "review_text",
         "rawType": "object",
         "type": "string"
        },
        {
         "name": "rating",
         "rawType": "int64",
         "type": "integer"
        },
        {
         "name": "date",
         "rawType": "object",
         "type": "string"
        },
        {
         "name": "bank_name",
         "rawType": "object",
         "type": "string"
        },
        {
         "name": "source",
         "rawType": "object",
         "type": "string"
        },
        {
         "name": "processed_review",
         "rawType": "object",
         "type": "string"
        }
       ],
       "ref": "3ff2b9d4-8c49-446b-a3ae-6d4c43d3a806",
       "rows": [
        [
         "0",
         "Hello, I’m facing a problem with the BOA Mobile app. Every time I enter my phone number and password, the app crashes and shows an error that says “BoaMobile closed because this app has a bug.” I tried updating, reinstalling, and clearing cache, but nothing worked. Please fix this bug in the next update. I really need access to my account. Thank you.",
         "1",
         "2025-06-03",
         "BOA",
         "Google Play",
         "hello facing problem boa mobile app every time enter phone number password app crash show error say boamobile closed app tried updating reinstalling clearing cache nothing worked please fix bug next update really need access account thank"
        ],
        [
         "1",
         "this is worest app 24/7 loading",
         "1",
         "2025-06-01",
         "BOA",
         "Google Play",
         "worest app loading"
        ],
        [
         "2",
         "This App is not interest for Android phone Please update it .",
         "1",
         "2025-06-01",
         "BOA",
         "Google Play",
         "app interest android phone please update"
        ],
        [
         "3",
         "BoA system is confartable",
         "5",
         "2025-06-01",
         "BOA",
         "Google Play",
         "boa system confartable"
        ],
        [
         "4",
         "very nice Abyssinia bank is choice all",
         "5",
         "2025-05-31",
         "BOA",
         "Google Play",
         "nice abyssinia bank choice"
        ]
       ],
       "shape": {
        "columns": 6,
        "rows": 5
       }
      },
      "text/html": [
       "<div>\n",
       "<style scoped>\n",
       "    .dataframe tbody tr th:only-of-type {\n",
       "        vertical-align: middle;\n",
       "    }\n",
       "\n",
       "    .dataframe tbody tr th {\n",
       "        vertical-align: top;\n",
       "    }\n",
       "\n",
       "    .dataframe thead th {\n",
       "        text-align: right;\n",
       "    }\n",
       "</style>\n",
       "<table border=\"1\" class=\"dataframe\">\n",
       "  <thead>\n",
       "    <tr style=\"text-align: right;\">\n",
       "      <th></th>\n",
       "      <th>review_text</th>\n",
       "      <th>rating</th>\n",
       "      <th>date</th>\n",
       "      <th>bank_name</th>\n",
       "      <th>source</th>\n",
       "      <th>processed_review</th>\n",
       "    </tr>\n",
       "  </thead>\n",
       "  <tbody>\n",
       "    <tr>\n",
       "      <th>0</th>\n",
       "      <td>Hello, I’m facing a problem with the BOA Mobil...</td>\n",
       "      <td>1</td>\n",
       "      <td>2025-06-03</td>\n",
       "      <td>BOA</td>\n",
       "      <td>Google Play</td>\n",
       "      <td>hello facing problem boa mobile app every time...</td>\n",
       "    </tr>\n",
       "    <tr>\n",
       "      <th>1</th>\n",
       "      <td>this is worest app 24/7 loading</td>\n",
       "      <td>1</td>\n",
       "      <td>2025-06-01</td>\n",
       "      <td>BOA</td>\n",
       "      <td>Google Play</td>\n",
       "      <td>worest app loading</td>\n",
       "    </tr>\n",
       "    <tr>\n",
       "      <th>2</th>\n",
       "      <td>This App is not interest for Android phone Ple...</td>\n",
       "      <td>1</td>\n",
       "      <td>2025-06-01</td>\n",
       "      <td>BOA</td>\n",
       "      <td>Google Play</td>\n",
       "      <td>app interest android phone please update</td>\n",
       "    </tr>\n",
       "    <tr>\n",
       "      <th>3</th>\n",
       "      <td>BoA system is confartable</td>\n",
       "      <td>5</td>\n",
       "      <td>2025-06-01</td>\n",
       "      <td>BOA</td>\n",
       "      <td>Google Play</td>\n",
       "      <td>boa system confartable</td>\n",
       "    </tr>\n",
       "    <tr>\n",
       "      <th>4</th>\n",
       "      <td>very nice Abyssinia bank is choice all</td>\n",
       "      <td>5</td>\n",
       "      <td>2025-05-31</td>\n",
       "      <td>BOA</td>\n",
       "      <td>Google Play</td>\n",
       "      <td>nice abyssinia bank choice</td>\n",
       "    </tr>\n",
       "  </tbody>\n",
       "</table>\n",
       "</div>"
      ],
      "text/plain": [
       "                                         review_text  rating        date  \\\n",
       "0  Hello, I’m facing a problem with the BOA Mobil...       1  2025-06-03   \n",
       "1                    this is worest app 24/7 loading       1  2025-06-01   \n",
       "2  This App is not interest for Android phone Ple...       1  2025-06-01   \n",
       "3                          BoA system is confartable       5  2025-06-01   \n",
       "4             very nice Abyssinia bank is choice all       5  2025-05-31   \n",
       "\n",
       "  bank_name       source                                   processed_review  \n",
       "0       BOA  Google Play  hello facing problem boa mobile app every time...  \n",
       "1       BOA  Google Play                                 worest app loading  \n",
       "2       BOA  Google Play           app interest android phone please update  \n",
       "3       BOA  Google Play                             boa system confartable  \n",
       "4       BOA  Google Play                         nice abyssinia bank choice  "
      ]
     },
     "execution_count": 8,
     "metadata": {},
     "output_type": "execute_result"
    }
   ],
   "source": [
    "data.head()"
   ]
  },
  {
   "cell_type": "code",
   "execution_count": null,
   "id": "055a64fa",
   "metadata": {},
   "outputs": [],
   "source": []
  }
 ],
 "metadata": {
  "kernelspec": {
   "display_name": ".venv",
   "language": "python",
   "name": "python3"
  },
  "language_info": {
   "codemirror_mode": {
    "name": "ipython",
    "version": 3
   },
   "file_extension": ".py",
   "mimetype": "text/x-python",
   "name": "python",
   "nbconvert_exporter": "python",
   "pygments_lexer": "ipython3",
   "version": "3.13.3"
  }
 },
 "nbformat": 4,
 "nbformat_minor": 5
}
