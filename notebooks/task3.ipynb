{
 "cells": [
  {
   "cell_type": "markdown",
   "id": "4b5ecdc8",
   "metadata": {},
   "source": [
    "# Task 3: Database Connection"
   ]
  },
  {
   "cell_type": "code",
   "execution_count": 1,
   "id": "74cca715",
   "metadata": {},
   "outputs": [],
   "source": [
    "# import libraries\n",
    "import os\n",
    "import sys\n"
   ]
  },
  {
   "cell_type": "code",
   "execution_count": 2,
   "id": "f0cf5812",
   "metadata": {},
   "outputs": [],
   "source": [
    "from pathlib import Path\n",
    "from importlib import reload\n",
    "# add the project root to the path\n",
    "project_root = Path(\"..\").resolve()\n",
    "if str(project_root) not in sys.path:\n",
    "    sys.path.insert(0, str(project_root))"
   ]
  },
  {
   "cell_type": "code",
   "execution_count": 26,
   "id": "c3bff7a4",
   "metadata": {},
   "outputs": [
    {
     "data": {
      "text/plain": [
       "<module 'src.database.Connection' from 'D:\\\\Research & Project\\\\10academy\\\\week 2\\\\challenge\\\\CX-analytics-for-fintech-apps\\\\src\\\\database\\\\Connection.py'>"
      ]
     },
     "execution_count": 26,
     "metadata": {},
     "output_type": "execute_result"
    }
   ],
   "source": [
    "#import the module\n",
    "from src.database.Connection import Database\n",
    "import src.database.Connection\n",
    "# reload the module to ensure we have the latest version\n",
    "reload(src.database.Connection)"
   ]
  },
  {
   "cell_type": "code",
   "execution_count": 28,
   "id": "3686a59a",
   "metadata": {},
   "outputs": [
    {
     "name": "stdout",
     "output_type": "stream",
     "text": [
      "Connection to the database established successfully.\n"
     ]
    }
   ],
   "source": [
    "host = \"localhost\"\n",
    "port = 5432\n",
    "database = \"bank_reviews\"\n",
    "user = \"postgres\"\n",
    "password = \"1234\"\n",
    "# create a database connection\n",
    "db = Database(host=host,database=database, user=user, password=password, port=port)\n",
    "# connect to the database\n",
    "con = db.connect()\n"
   ]
  },
  {
   "cell_type": "code",
   "execution_count": 30,
   "id": "36970cb7",
   "metadata": {},
   "outputs": [
    {
     "name": "stdout",
     "output_type": "stream",
     "text": [
      "Table created successfully.\n",
      "Table created successfully.\n"
     ]
    }
   ],
   "source": [
    "# create bank table\n",
    "create_bank_table = \"\"\"\n",
    "CREATE TABLE IF NOT EXISTS bank (\n",
    "    bid VARCHAR(10) PRIMARY KEY,\n",
    "    name VARCHAR(255) NOT NULL,\n",
    "    website VARCHAR(255) NOT NULL\n",
    ");\n",
    "\"\"\"\n",
    "# create review table\n",
    "create_review_table = \"\"\"\n",
    "CREATE TABLE IF NOT EXISTS reviews (\n",
    "    rid SERIAL PRIMARY KEY,\n",
    "    bid VARCHAR(10) NOT NULL,\n",
    "    rating INTEGER NOT NULL,\n",
    "    review_text TEXT NOT NULL,\n",
    "    review_date TIMESTAMP NOT NULL DEFAULT CURRENT_TIMESTAMP,\n",
    "    processed_review TEXT,\n",
    "    sentiment_score FLOAT,\n",
    "    sentiment_label VARCHAR(50),\n",
    "    FOREIGN KEY (bid) REFERENCES bank(bid)\n",
    ");\n",
    "\"\"\"\n",
    "# create the tables\n",
    "db.create_table(create_bank_table)\n",
    "db.create_table(create_review_table)\n"
   ]
  },
  {
   "cell_type": "code",
   "execution_count": 37,
   "id": "9e7977b0",
   "metadata": {},
   "outputs": [
    {
     "name": "stdout",
     "output_type": "stream",
     "text": [
      "Data inserted successfully.\n",
      "Data inserted successfully.\n",
      "Data inserted successfully.\n"
     ]
    }
   ],
   "source": [
    "# 3 banks data (CBE, BOA, Dashen) with their details\n",
    "banks_data = [\n",
    "    {\n",
    "        \"bid\":\"CBE\",\n",
    "        \"name\": \"Commercial Bank of Ethiopia\",\n",
    "        \"website\": \"https://www.combanketh.et\"\n",
    "    },\n",
    "    {\n",
    "        \"bid\":\"BOA\",\n",
    "        \"name\": \"Bank of Abyssinia\",\n",
    "        \"website\": \"https://www.bankofabyssinia.com/\"\n",
    "    },\n",
    "    {\n",
    "        \"bid\":\"Dashen\",\n",
    "        \"name\": \"Dashen Bank\",\n",
    "        \"website\": \"https://www.dashenbanksc.com/\"\n",
    "    }\n",
    "]\n",
    "# insert banks data into the bank table\n",
    "for bank in banks_data:\n",
    "\n",
    "    # create a dictionary for the bank data\n",
    "    sql = \"\"\"\n",
    "    INSERT INTO bank (bid, name, website)\n",
    "    VALUES (%s, %s, %s)\n",
    "    ON CONFLICT (bid) DO NOTHING;\n",
    "    \"\"\"\n",
    "    # execute the insert query\n",
    "    db.insert_data(sql, (bank[\"bid\"], bank[\"name\"], bank[\"website\"]))\n"
   ]
  }
 ],
 "metadata": {
  "kernelspec": {
   "display_name": ".venv",
   "language": "python",
   "name": "python3"
  },
  "language_info": {
   "codemirror_mode": {
    "name": "ipython",
    "version": 3
   },
   "file_extension": ".py",
   "mimetype": "text/x-python",
   "name": "python",
   "nbconvert_exporter": "python",
   "pygments_lexer": "ipython3",
   "version": "3.13.3"
  }
 },
 "nbformat": 4,
 "nbformat_minor": 5
}
