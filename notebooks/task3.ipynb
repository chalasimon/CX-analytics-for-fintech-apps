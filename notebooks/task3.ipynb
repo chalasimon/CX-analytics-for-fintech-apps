{
 "cells": [
  {
   "cell_type": "markdown",
   "id": "4b5ecdc8",
   "metadata": {},
   "source": [
    "# Task 3: Database Connection"
   ]
  },
  {
   "cell_type": "code",
   "execution_count": 1,
   "id": "74cca715",
   "metadata": {},
   "outputs": [],
   "source": [
    "# import libraries\n",
    "import os\n",
    "import sys\n"
   ]
  },
  {
   "cell_type": "code",
   "execution_count": 2,
   "id": "f0cf5812",
   "metadata": {},
   "outputs": [],
   "source": [
    "from pathlib import Path\n",
    "from importlib import reload\n",
    "# add the project root to the path\n",
    "project_root = Path(\"..\").resolve()\n",
    "if str(project_root) not in sys.path:\n",
    "    sys.path.insert(0, str(project_root))"
   ]
  },
  {
   "cell_type": "code",
   "execution_count": 3,
   "id": "c3bff7a4",
   "metadata": {},
   "outputs": [
    {
     "data": {
      "text/plain": [
       "<module 'src.database.Connection' from 'D:\\\\Research & Project\\\\10academy\\\\week 2\\\\challenge\\\\CX-analytics-for-fintech-apps\\\\src\\\\database\\\\Connection.py'>"
      ]
     },
     "execution_count": 3,
     "metadata": {},
     "output_type": "execute_result"
    }
   ],
   "source": [
    "#import the module\n",
    "from src.database.Connection import Database\n",
    "import src.database.Connection\n",
    "# reload the module to ensure we have the latest version\n",
    "reload(src.database.Connection)"
   ]
  },
  {
   "cell_type": "code",
   "execution_count": 7,
   "id": "3686a59a",
   "metadata": {},
   "outputs": [
    {
     "name": "stdout",
     "output_type": "stream",
     "text": [
      "Connection to the database established successfully.\n"
     ]
    }
   ],
   "source": [
    "host = \"localhost\"\n",
    "port = 5432\n",
    "database = \"bank_reviews\"\n",
    "user = \"postgres\"\n",
    "password = \"1234\"\n",
    "# create a database connection\n",
    "db = Database(host=host,database=database, user=user, password=password, port=port)\n",
    "# connect to the database\n",
    "con = db.connect()\n"
   ]
  }
 ],
 "metadata": {
  "kernelspec": {
   "display_name": ".venv",
   "language": "python",
   "name": "python3"
  },
  "language_info": {
   "codemirror_mode": {
    "name": "ipython",
    "version": 3
   },
   "file_extension": ".py",
   "mimetype": "text/x-python",
   "name": "python",
   "nbconvert_exporter": "python",
   "pygments_lexer": "ipython3",
   "version": "3.13.3"
  }
 },
 "nbformat": 4,
 "nbformat_minor": 5
}
