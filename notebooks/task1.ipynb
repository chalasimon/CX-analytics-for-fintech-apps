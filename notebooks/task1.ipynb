{
 "cells": [
  {
   "cell_type": "markdown",
   "id": "5072d0a3",
   "metadata": {},
   "source": [
    "# Task 1: Data Preparation and Cleaning "
   ]
  },
  {
   "cell_type": "code",
   "execution_count": 1,
   "id": "dd8d6663",
   "metadata": {},
   "outputs": [],
   "source": [
    "import sys\n",
    "import os\n",
    "import pandas as pd\n",
    "from glob import glob"
   ]
  },
  {
   "cell_type": "code",
   "execution_count": 2,
   "id": "28d60ea2",
   "metadata": {},
   "outputs": [],
   "source": [
    "from pathlib import Path\n",
    "from importlib import reload\n",
    "# add the project root to the path\n",
    "project_root = Path(\"..\").resolve()\n",
    "if str(project_root) not in sys.path:\n",
    "    sys.path.insert(0, str(project_root))"
   ]
  },
  {
   "cell_type": "markdown",
   "id": "d9aa20e0",
   "metadata": {},
   "source": [
    "## Web Scraping"
   ]
  },
  {
   "cell_type": "code",
   "execution_count": 3,
   "id": "1c5ae7f4",
   "metadata": {},
   "outputs": [
    {
     "data": {
      "text/plain": [
       "<module 'src.play_store_scraper' from 'D:\\\\Research & Project\\\\10academy\\\\week 2\\\\challenge\\\\CX-analytics-for-fintech-apps\\\\src\\\\play_store_scraper.py'>"
      ]
     },
     "execution_count": 3,
     "metadata": {},
     "output_type": "execute_result"
    }
   ],
   "source": [
    "# import the scraper module\n",
    "from src.play_store_scraper import PlayStoreScraper\n",
    "import src.play_store_scraper\n",
    "# reload the module to ensure we have the latest version\n",
    "reload(src.play_store_scraper)"
   ]
  },
  {
   "cell_type": "code",
   "execution_count": 4,
   "id": "11b6dff2",
   "metadata": {},
   "outputs": [],
   "source": [
    "# Define app IDs and corresponding bank names\n",
    "banks = {\n",
    "    'com.combanketh.mobilebanking': 'CBE',\n",
    "    'com.dashen.dashensuperapp': 'Dashen',\n",
    "    'com.boa.boaMobileBanking': 'BOA'\n",
    "}"
   ]
  },
  {
   "cell_type": "code",
   "execution_count": 5,
   "id": "db436ced",
   "metadata": {},
   "outputs": [
    {
     "name": "stdout",
     "output_type": "stream",
     "text": [
      "Scraping for: CBE\n",
      "Done scraping for: CBE\n",
      "\n",
      "Scraping for: Dashen\n",
      "Done scraping for: Dashen\n",
      "\n",
      "Scraping for: BOA\n",
      "Done scraping for: BOA\n",
      "\n"
     ]
    }
   ],
   "source": [
    "# Loop through each bank and scrape\n",
    "for app_id, bank_name in banks.items():\n",
    "    num_reviews = 1000  # Number of reviews to scrape\n",
    "    print(f\"Scraping for: {bank_name}\")\n",
    "    scraper = PlayStoreScraper(app_id)\n",
    "    reviews = scraper.get_reviews(num_reviews=num_reviews)\n",
    "    scraper.save_reviews_to_csv(reviews, bank_name)\n",
    "    print(f\"Done scraping for: {bank_name}\\n\")"
   ]
  },
  {
   "cell_type": "markdown",
   "id": "cb59566d",
   "metadata": {},
   "source": [
    "## Preprocessing Steps"
   ]
  },
  {
   "cell_type": "markdown",
   "id": "c8f6985c",
   "metadata": {},
   "source": [
    "#### Loading the Data"
   ]
  },
  {
   "cell_type": "code",
   "execution_count": 6,
   "id": "eba48fc6",
   "metadata": {},
   "outputs": [
    {
     "data": {
      "text/plain": [
       "<module 'src.data_loader' from 'D:\\\\Research & Project\\\\10academy\\\\week 2\\\\challenge\\\\CX-analytics-for-fintech-apps\\\\src\\\\data_loader.py'>"
      ]
     },
     "execution_count": 6,
     "metadata": {},
     "output_type": "execute_result"
    }
   ],
   "source": [
    "# In this task, we will prepare and clean the dataset for further analysis.\n",
    "# First, we will load the module for data loading \n",
    "from src.data_loader import DataLoader\n",
    "import src.data_loader\n",
    "reload(src.data_loader)"
   ]
  },
  {
   "cell_type": "code",
   "execution_count": 7,
   "id": "40626332",
   "metadata": {},
   "outputs": [
    {
     "name": "stdout",
     "output_type": "stream",
     "text": [
      "Loaded BOA_reviews_20250608_014031.csv with 1000 records.\n",
      "Loaded CBE_reviews_20250608_014013.csv with 1000 records.\n",
      "Loaded Dashen_reviews_20250608_014014.csv with 448 records.\n"
     ]
    },
    {
     "data": {
      "application/vnd.microsoft.datawrangler.viewer.v0+json": {
       "columns": [
        {
         "name": "index",
         "rawType": "int64",
         "type": "integer"
        },
        {
         "name": "review_text",
         "rawType": "object",
         "type": "string"
        },
        {
         "name": "rating",
         "rawType": "int64",
         "type": "integer"
        },
        {
         "name": "date",
         "rawType": "object",
         "type": "string"
        },
        {
         "name": "bank_name",
         "rawType": "object",
         "type": "string"
        },
        {
         "name": "source",
         "rawType": "object",
         "type": "string"
        }
       ],
       "ref": "c4223b05-0050-4e71-a763-47524045f57b",
       "rows": [
        [
         "0",
         "\"Why don’t your ATMs support account-to-account transfers like other countries( Kenya, Nigeria , South africa)\"",
         "4",
         "2025-06-06",
         "CBE",
         "Google Play"
        ],
        [
         "1",
         "what is this app problem???",
         "1",
         "2025-06-05",
         "CBE",
         "Google Play"
        ],
        [
         "2",
         "the app is proactive and a good connections.",
         "5",
         "2025-06-05",
         "CBE",
         "Google Play"
        ],
        [
         "3",
         "I cannot send to cbebirr app. through this app.",
         "3",
         "2025-06-05",
         "CBE",
         "Google Play"
        ],
        [
         "4",
         "good",
         "4",
         "2025-06-05",
         "CBE",
         "Google Play"
        ]
       ],
       "shape": {
        "columns": 5,
        "rows": 5
       }
      },
      "text/html": [
       "<div>\n",
       "<style scoped>\n",
       "    .dataframe tbody tr th:only-of-type {\n",
       "        vertical-align: middle;\n",
       "    }\n",
       "\n",
       "    .dataframe tbody tr th {\n",
       "        vertical-align: top;\n",
       "    }\n",
       "\n",
       "    .dataframe thead th {\n",
       "        text-align: right;\n",
       "    }\n",
       "</style>\n",
       "<table border=\"1\" class=\"dataframe\">\n",
       "  <thead>\n",
       "    <tr style=\"text-align: right;\">\n",
       "      <th></th>\n",
       "      <th>review_text</th>\n",
       "      <th>rating</th>\n",
       "      <th>date</th>\n",
       "      <th>bank_name</th>\n",
       "      <th>source</th>\n",
       "    </tr>\n",
       "  </thead>\n",
       "  <tbody>\n",
       "    <tr>\n",
       "      <th>0</th>\n",
       "      <td>\"Why don’t your ATMs support account-to-accoun...</td>\n",
       "      <td>4</td>\n",
       "      <td>2025-06-06</td>\n",
       "      <td>CBE</td>\n",
       "      <td>Google Play</td>\n",
       "    </tr>\n",
       "    <tr>\n",
       "      <th>1</th>\n",
       "      <td>what is this app problem???</td>\n",
       "      <td>1</td>\n",
       "      <td>2025-06-05</td>\n",
       "      <td>CBE</td>\n",
       "      <td>Google Play</td>\n",
       "    </tr>\n",
       "    <tr>\n",
       "      <th>2</th>\n",
       "      <td>the app is proactive and a good connections.</td>\n",
       "      <td>5</td>\n",
       "      <td>2025-06-05</td>\n",
       "      <td>CBE</td>\n",
       "      <td>Google Play</td>\n",
       "    </tr>\n",
       "    <tr>\n",
       "      <th>3</th>\n",
       "      <td>I cannot send to cbebirr app. through this app.</td>\n",
       "      <td>3</td>\n",
       "      <td>2025-06-05</td>\n",
       "      <td>CBE</td>\n",
       "      <td>Google Play</td>\n",
       "    </tr>\n",
       "    <tr>\n",
       "      <th>4</th>\n",
       "      <td>good</td>\n",
       "      <td>4</td>\n",
       "      <td>2025-06-05</td>\n",
       "      <td>CBE</td>\n",
       "      <td>Google Play</td>\n",
       "    </tr>\n",
       "  </tbody>\n",
       "</table>\n",
       "</div>"
      ],
      "text/plain": [
       "                                         review_text  rating        date  \\\n",
       "0  \"Why don’t your ATMs support account-to-accoun...       4  2025-06-06   \n",
       "1                        what is this app problem???       1  2025-06-05   \n",
       "2       the app is proactive and a good connections.       5  2025-06-05   \n",
       "3    I cannot send to cbebirr app. through this app.       3  2025-06-05   \n",
       "4                                               good       4  2025-06-05   \n",
       "\n",
       "  bank_name       source  \n",
       "0       CBE  Google Play  \n",
       "1       CBE  Google Play  \n",
       "2       CBE  Google Play  \n",
       "3       CBE  Google Play  \n",
       "4       CBE  Google Play  "
      ]
     },
     "execution_count": 7,
     "metadata": {},
     "output_type": "execute_result"
    }
   ],
   "source": [
    "# initialize the data loader for the raw data directory\n",
    "# Define path to your raw data folder\n",
    "raw_data_dir = '../data/raw'\n",
    "loader = DataLoader(raw_data_dir)\n",
    "# List all CSV files in the raw data directory\n",
    "csv_files=[f for f in os.listdir(raw_data_dir) if f.endswith('.csv')]\n",
    "# Load all CSV files into a single Dictionary of DataFrames\n",
    "bank_reviews = {}\n",
    "\n",
    "# Load each CSV and store in the dictionary\n",
    "for filename in csv_files:\n",
    "    try:\n",
    "        df = loader.load_data(filename)\n",
    "        # Extract bank name from filename (e.g., \"CBE_reviews_20250607_153045.csv\")\n",
    "        bank_name = filename.split('_reviews_')[0]\n",
    "        bank_reviews[bank_name] = df\n",
    "        print(f\"Loaded {filename} with {len(df)} records.\")\n",
    "    except Exception as e:\n",
    "        print(f\"Failed to load {filename}: {e}\")\n",
    "\n",
    "# Example: Display the first few rows of CBE data\n",
    "bank_reviews['CBE'].head(5)"
   ]
  },
  {
   "cell_type": "code",
   "execution_count": 8,
   "id": "433177b0",
   "metadata": {},
   "outputs": [
    {
     "name": "stdout",
     "output_type": "stream",
     "text": [
      "\n",
      "BOA Data Description:\n",
      "       review_text       rating        date bank_name       source\n",
      "count         1000  1000.000000        1000      1000         1000\n",
      "unique         856          NaN         367         1            1\n",
      "top           Good          NaN  2024-05-02       BOA  Google Play\n",
      "freq            43          NaN          23      1000         1000\n",
      "mean           NaN     3.020000         NaN       NaN          NaN\n",
      "std            NaN     1.859855         NaN       NaN          NaN\n",
      "min            NaN     1.000000         NaN       NaN          NaN\n",
      "25%            NaN     1.000000         NaN       NaN          NaN\n",
      "50%            NaN     3.000000         NaN       NaN          NaN\n",
      "75%            NaN     5.000000         NaN       NaN          NaN\n",
      "max            NaN     5.000000         NaN       NaN          NaN\n",
      "Total reviews: 1000\n",
      "Columns: ['review_text', 'rating', 'date', 'bank_name', 'source']\n",
      "\n",
      "\n",
      "CBE Data Description:\n",
      "       review_text       rating        date bank_name       source\n",
      "count         1000  1000.000000        1000      1000         1000\n",
      "unique         741          NaN         131         1            1\n",
      "top           good          NaN  2025-03-31       CBE  Google Play\n",
      "freq            52          NaN          52      1000         1000\n",
      "mean           NaN     4.141000         NaN       NaN          NaN\n",
      "std            NaN     1.433588         NaN       NaN          NaN\n",
      "min            NaN     1.000000         NaN       NaN          NaN\n",
      "25%            NaN     4.000000         NaN       NaN          NaN\n",
      "50%            NaN     5.000000         NaN       NaN          NaN\n",
      "75%            NaN     5.000000         NaN       NaN          NaN\n",
      "max            NaN     5.000000         NaN       NaN          NaN\n",
      "Total reviews: 1000\n",
      "Columns: ['review_text', 'rating', 'date', 'bank_name', 'source']\n",
      "\n",
      "\n",
      "Dashen Data Description:\n",
      "       review_text      rating        date bank_name       source\n",
      "count          448  448.000000         448       448          448\n",
      "unique         407         NaN         118         1            1\n",
      "top           good         NaN  2025-04-21    Dashen  Google Play\n",
      "freq            11         NaN         106       448          448\n",
      "mean           NaN    4.475446         NaN       NaN          NaN\n",
      "std            NaN    1.201909         NaN       NaN          NaN\n",
      "min            NaN    1.000000         NaN       NaN          NaN\n",
      "25%            NaN    5.000000         NaN       NaN          NaN\n",
      "50%            NaN    5.000000         NaN       NaN          NaN\n",
      "75%            NaN    5.000000         NaN       NaN          NaN\n",
      "max            NaN    5.000000         NaN       NaN          NaN\n",
      "Total reviews: 448\n",
      "Columns: ['review_text', 'rating', 'date', 'bank_name', 'source']\n",
      "\n"
     ]
    }
   ],
   "source": [
    "# describe the data for each bank\n",
    "for bank_name, df in bank_reviews.items():\n",
    "    print(f\"\\n{bank_name} Data Description:\")\n",
    "    print(df.describe(include='all'))  # include='all' to get stats for all columns\n",
    "    print(f\"Total reviews: {len(df)}\")\n",
    "    print(f\"Columns: {list(df.columns)}\\n\")"
   ]
  },
  {
   "cell_type": "markdown",
   "id": "dbc72230",
   "metadata": {},
   "source": [
    "#### Removing Duplicates and Handling Missing Values"
   ]
  },
  {
   "cell_type": "code",
   "execution_count": 9,
   "id": "df23c410",
   "metadata": {},
   "outputs": [
    {
     "data": {
      "text/plain": [
       "<module 'src.preprocessing' from 'D:\\\\Research & Project\\\\10academy\\\\week 2\\\\challenge\\\\CX-analytics-for-fintech-apps\\\\src\\\\preprocessing.py'>"
      ]
     },
     "execution_count": 9,
     "metadata": {},
     "output_type": "execute_result"
    }
   ],
   "source": [
    "# Load the preprocessing module\n",
    "from src.preprocessing import Preprocessor\n",
    "import src.preprocessing\n",
    "# Reload the module to ensure we have the latest version\n",
    "reload(src.preprocessing)"
   ]
  },
  {
   "cell_type": "code",
   "execution_count": 10,
   "id": "d8ecd3af",
   "metadata": {},
   "outputs": [],
   "source": [
    "\n",
    "# Define input/output directories\n",
    "processed_data_dir = '../data/processed'\n",
    "os.makedirs(processed_data_dir, exist_ok=True)"
   ]
  },
  {
   "cell_type": "code",
   "execution_count": 12,
   "id": "220b9e6f",
   "metadata": {},
   "outputs": [
    {
     "name": "stderr",
     "output_type": "stream",
     "text": [
      "\n",
      "[notice] A new release of pip is available: 25.0.1 -> 25.1.1\n",
      "[notice] To update, run: python.exe -m pip install --upgrade pip\n",
      "ERROR: Invalid requirement: '#': Expected package name at the start of dependency specifier\n",
      "    #\n",
      "    ^\n"
     ]
    },
    {
     "name": "stdout",
     "output_type": "stream",
     "text": [
      "Preprocessing data for BOA...\n",
      "Saved preprocessed data for BOA to ../data/processed\\BOA_preprocessed.csv\n",
      "\n",
      "Preprocessing data for CBE...\n",
      "Saved preprocessed data for CBE to ../data/processed\\CBE_preprocessed.csv\n",
      "\n",
      "Preprocessing data for Dashen...\n",
      "Saved preprocessed data for Dashen to ../data/processed\\Dashen_preprocessed.csv\n",
      "\n",
      "Saved combined preprocessed data to ../data/processed\\combined_preprocessed.csv\n",
      "\n"
     ]
    }
   ],
   "source": [
    "# preprocess each bank's reviews\n",
    "# store in single df \n",
    "\n",
    "!python -m spacy download en_core_web_sm # Ensure spaCy model is downloaded to remove non-English reviews\n",
    "\n",
    "# To hold all preprocessed DataFrames\n",
    "all_preprocessed_dfs = []\n",
    "for bank_name, df in bank_reviews.items():\n",
    "    print(f\"Preprocessing data for {bank_name}...\")\n",
    "    preprocessor = Preprocessor(df)\n",
    "    preprocessed_df = (\n",
    "        preprocessor.remove_duplicates()\n",
    "        .handle_missing_values()\n",
    "        .remove_non_english_reviews()\n",
    "        .get_processed_data()\n",
    "    )\n",
    "\n",
    "    \n",
    "\n",
    "    # Save the preprocessed data\n",
    "    output_file = os.path.join(processed_data_dir, f\"{bank_name}_preprocessed.csv\")\n",
    "    preprocessed_df.to_csv(output_file, index=False)\n",
    "    print(f\"Saved preprocessed data for {bank_name} to {output_file}\\n\")\n",
    "    \n",
    "    # Append to the list of all preprocessed DataFrames\n",
    "    all_preprocessed_dfs.append(preprocessed_df)\n",
    "# Combine all preprocessed DataFrames into a single DataFrame\n",
    "combined_df = pd.concat(all_preprocessed_dfs, ignore_index=True)\n",
    "# Save the combined DataFrame\n",
    "combined_output_file = os.path.join(processed_data_dir, \"combined_preprocessed.csv\")\n",
    "combined_df.to_csv(combined_output_file, index=False)\n",
    "print(f\"Saved combined preprocessed data to {combined_output_file}\\n\")"
   ]
  },
  {
   "cell_type": "code",
   "execution_count": 13,
   "id": "be473ddf",
   "metadata": {},
   "outputs": [
    {
     "data": {
      "application/vnd.microsoft.datawrangler.viewer.v0+json": {
       "columns": [
        {
         "name": "index",
         "rawType": "int64",
         "type": "integer"
        },
        {
         "name": "review_text",
         "rawType": "object",
         "type": "string"
        },
        {
         "name": "rating",
         "rawType": "int64",
         "type": "integer"
        },
        {
         "name": "date",
         "rawType": "object",
         "type": "string"
        },
        {
         "name": "bank_name",
         "rawType": "object",
         "type": "string"
        },
        {
         "name": "source",
         "rawType": "object",
         "type": "string"
        }
       ],
       "ref": "993a640b-7ba2-497f-8958-6fc59026e7d9",
       "rows": [
        [
         "0",
         "Hello, I’m facing a problem with the BOA Mobile app. Every time I enter my phone number and password, the app crashes and shows an error that says “BoaMobile closed because this app has a bug.” I tried updating, reinstalling, and clearing cache, but nothing worked. Please fix this bug in the next update. I really need access to my account. Thank you.",
         "1",
         "2025-06-03",
         "BOA",
         "Google Play"
        ],
        [
         "1",
         "this is worest app 24/7 loading",
         "1",
         "2025-06-01",
         "BOA",
         "Google Play"
        ],
        [
         "2",
         "This App is not interest for Android phone Please update it .",
         "1",
         "2025-06-01",
         "BOA",
         "Google Play"
        ],
        [
         "3",
         "BoA system is confartable",
         "5",
         "2025-06-01",
         "BOA",
         "Google Play"
        ],
        [
         "4",
         "very nice Abyssinia bank is choice all",
         "5",
         "2025-05-31",
         "BOA",
         "Google Play"
        ],
        [
         "5",
         "this app, for me , is a waste of time. It doesn't work . I can't even long in, and it really piss me off. FIX THE PROBLEM",
         "1",
         "2025-05-27",
         "BOA",
         "Google Play"
        ],
        [
         "6",
         "Good service.",
         "3",
         "2025-05-25",
         "BOA",
         "Google Play"
        ],
        [
         "7",
         "the app crush frequently",
         "1",
         "2025-05-24",
         "BOA",
         "Google Play"
        ],
        [
         "8",
         "This app is a joke. It crashes more than it works, takes forever to load, and half the features are just decorative at this point. Can’t log in, can’t transfer money, can’t even check my balance without it bugging out. To the developer: Are you actually trying to make this work, or is this some kind of social experiment to test our patience? Did you build this in your sleep? Because it definitely looks like it. If this is your idea of a functional app, maybe consider a different career path🙏",
         "1",
         "2025-05-21",
         "BOA",
         "Google Play"
        ],
        [
         "9",
         "BoA",
         "2",
         "2025-05-20",
         "BOA",
         "Google Play"
        ],
        [
         "10",
         "but not opening on android",
         "4",
         "2025-05-19",
         "BOA",
         "Google Play"
        ],
        [
         "11",
         "Worst App ever. Totally unreliable. And it didn't work at all for the last 4 months.",
         "1",
         "2025-05-18",
         "BOA",
         "Google Play"
        ],
        [
         "12",
         "this app does no work on Samsung a51, it just gives a preview of the logo",
         "1",
         "2025-05-11",
         "BOA",
         "Google Play"
        ],
        [
         "13",
         "i entered incorrect security question by mistake boa app lock pin forever, why is there no other options? ?? i contacted different branchs more then 4times but they didn't able to solve this issue .",
         "5",
         "2025-05-10",
         "BOA",
         "Google Play"
        ],
        [
         "14",
         "liking this application good 👍",
         "5",
         "2025-05-07",
         "BOA",
         "Google Play"
        ],
        [
         "15",
         "This app future is good, but there is problems with apps to reset and activate it, which is difficult even to the branch staffs, and it takes too long times to active at the branch plus most of the time high expected failure of activation after process at the counter and OTP sent not work",
         "1",
         "2025-05-06",
         "BOA",
         "Google Play"
        ],
        [
         "16",
         "it's really good 👍",
         "5",
         "2025-04-23",
         "BOA",
         "Google Play"
        ],
        [
         "17",
         "Bad app . it stuck when you open and noting WORKS.",
         "1",
         "2025-04-23",
         "BOA",
         "Google Play"
        ],
        [
         "18",
         "the app isn't working after it asked me the password it starts loading, but it doesn't open",
         "3",
         "2025-04-20",
         "BOA",
         "Google Play"
        ],
        [
         "19",
         "It keeps showing this pop up to turn off developer options even tho it's off! I had to turn on and then off to make it work! This is a horrible experience and needs a fix asap! Plus kinda slow.",
         "1",
         "2025-04-19",
         "BOA",
         "Google Play"
        ],
        [
         "20",
         "great boa",
         "5",
         "2025-04-10",
         "BOA",
         "Google Play"
        ],
        [
         "21",
         "boa of mobile backing",
         "5",
         "2025-04-09",
         "BOA",
         "Google Play"
        ],
        [
         "22",
         "faster bank of Abissinya",
         "5",
         "2025-04-08",
         "BOA",
         "Google Play"
        ],
        [
         "23",
         "i would have given it a lower if it was possible because it crush so much and it take the bank so long to fix the bug",
         "1",
         "2025-04-08",
         "BOA",
         "Google Play"
        ],
        [
         "24",
         "it just doesn't work...so frustrating",
         "1",
         "2025-04-07",
         "BOA",
         "Google Play"
        ],
        [
         "25",
         "it's not work correctly... you must have update it",
         "1",
         "2025-04-06",
         "BOA",
         "Google Play"
        ],
        [
         "26",
         "the app gets a considerable improvements like language , QR scanner and unlimited transfers survice. but BOA Please do alot on its fastness and convenient when we login and making a transactions.",
         "5",
         "2025-04-04",
         "BOA",
         "Google Play"
        ],
        [
         "27",
         "after i typed in my password it says successfully logged out ...and goes back to the first page",
         "2",
         "2025-04-04",
         "BOA",
         "Google Play"
        ],
        [
         "28",
         "good but they don't update enough don't add new things",
         "3",
         "2025-04-04",
         "BOA",
         "Google Play"
        ],
        [
         "29",
         "thank you",
         "5",
         "2025-04-02",
         "BOA",
         "Google Play"
        ],
        [
         "30",
         "it doesn't work period z slowest mobile banking ever i would rather use *815#",
         "1",
         "2025-04-01",
         "BOA",
         "Google Play"
        ],
        [
         "31",
         "after activated the application it not allowed to sign , automatically it is turn off In my phone, why ?",
         "1",
         "2025-03-31",
         "BOA",
         "Google Play"
        ],
        [
         "32",
         "good application",
         "5",
         "2025-03-30",
         "BOA",
         "Google Play"
        ],
        [
         "33",
         "this version is not working for me I cannot even buy card. I cannot send money",
         "1",
         "2025-03-30",
         "BOA",
         "Google Play"
        ],
        [
         "34",
         "It can't actively on initialization, it says incorrect OTP getting the exact OTP",
         "1",
         "2025-03-29",
         "BOA",
         "Google Play"
        ],
        [
         "35",
         "always problematic hardly works",
         "1",
         "2025-03-26",
         "BOA",
         "Google Play"
        ],
        [
         "36",
         "considering the fact the bank is huge this app really bad you could do better",
         "1",
         "2025-03-25",
         "BOA",
         "Google Play"
        ],
        [
         "37",
         "worst app and Bank ever u be ashamed, scammer",
         "1",
         "2025-03-24",
         "BOA",
         "Google Play"
        ],
        [
         "38",
         "great BoA",
         "5",
         "2025-03-22",
         "BOA",
         "Google Play"
        ],
        [
         "39",
         "i have went to the bank so many times because i couldn't make any transaction i can only see my balance nothing else so what is the point of having mobile banking if i can't make any transaction with it please work in that",
         "1",
         "2025-03-21",
         "BOA",
         "Google Play"
        ],
        [
         "40",
         "there is no speed",
         "1",
         "2025-03-19",
         "BOA",
         "Google Play"
        ],
        [
         "41",
         "For anyone who wants to download it, just don't!!!",
         "1",
         "2025-03-19",
         "BOA",
         "Google Play"
        ],
        [
         "42",
         "all worck",
         "5",
         "2025-03-19",
         "BOA",
         "Google Play"
        ],
        [
         "43",
         "Loved it",
         "5",
         "2025-03-14",
         "BOA",
         "Google Play"
        ],
        [
         "44",
         "Edit: New bug, app not letting me type in my otp codes. Shameful Why does this app not allow me to use it while having developer options on? Did y'all consider that I might, perhaps, be an actual developer? Why am I expected to toggle the option on and off just to bank (restarting my phone when I do)? Why is the message labled as somthing that will \"smoothen\" the experience? This is like the most \"security consultant\" thing to implement in an app. Please invest in actual security, not this mess.",
         "1",
         "2025-03-12",
         "BOA",
         "Google Play"
        ],
        [
         "45",
         "Improved to be the best",
         "5",
         "2025-03-11",
         "BOA",
         "Google Play"
        ],
        [
         "46",
         "Decent, but there problems sometimes it says error When i transfer money but infact it transferred because of this bug i transferred 2 times instead of 1 and also we can't transfer money to others telebirr acc we only can to our self BOE Dev fix this !!!",
         "3",
         "2025-03-11",
         "BOA",
         "Google Play"
        ],
        [
         "47",
         "BoA Greqt Ethiopian bank.",
         "5",
         "2025-03-11",
         "BOA",
         "Google Play"
        ],
        [
         "48",
         "The bug is still there,the app crashes every time i try to log in, especially in old phones like my Galaxy A32",
         "1",
         "2025-03-10",
         "BOA",
         "Google Play"
        ],
        [
         "49",
         "Almost better compared to cbe where it is not qualified for",
         "4",
         "2025-03-09",
         "BOA",
         "Google Play"
        ]
       ],
       "shape": {
        "columns": 5,
        "rows": 1430
       }
      },
      "text/html": [
       "<div>\n",
       "<style scoped>\n",
       "    .dataframe tbody tr th:only-of-type {\n",
       "        vertical-align: middle;\n",
       "    }\n",
       "\n",
       "    .dataframe tbody tr th {\n",
       "        vertical-align: top;\n",
       "    }\n",
       "\n",
       "    .dataframe thead th {\n",
       "        text-align: right;\n",
       "    }\n",
       "</style>\n",
       "<table border=\"1\" class=\"dataframe\">\n",
       "  <thead>\n",
       "    <tr style=\"text-align: right;\">\n",
       "      <th></th>\n",
       "      <th>review_text</th>\n",
       "      <th>rating</th>\n",
       "      <th>date</th>\n",
       "      <th>bank_name</th>\n",
       "      <th>source</th>\n",
       "    </tr>\n",
       "  </thead>\n",
       "  <tbody>\n",
       "    <tr>\n",
       "      <th>0</th>\n",
       "      <td>Hello, I’m facing a problem with the BOA Mobil...</td>\n",
       "      <td>1</td>\n",
       "      <td>2025-06-03</td>\n",
       "      <td>BOA</td>\n",
       "      <td>Google Play</td>\n",
       "    </tr>\n",
       "    <tr>\n",
       "      <th>1</th>\n",
       "      <td>this is worest app 24/7 loading</td>\n",
       "      <td>1</td>\n",
       "      <td>2025-06-01</td>\n",
       "      <td>BOA</td>\n",
       "      <td>Google Play</td>\n",
       "    </tr>\n",
       "    <tr>\n",
       "      <th>2</th>\n",
       "      <td>This App is not interest for Android phone Ple...</td>\n",
       "      <td>1</td>\n",
       "      <td>2025-06-01</td>\n",
       "      <td>BOA</td>\n",
       "      <td>Google Play</td>\n",
       "    </tr>\n",
       "    <tr>\n",
       "      <th>3</th>\n",
       "      <td>BoA system is confartable</td>\n",
       "      <td>5</td>\n",
       "      <td>2025-06-01</td>\n",
       "      <td>BOA</td>\n",
       "      <td>Google Play</td>\n",
       "    </tr>\n",
       "    <tr>\n",
       "      <th>4</th>\n",
       "      <td>very nice Abyssinia bank is choice all</td>\n",
       "      <td>5</td>\n",
       "      <td>2025-05-31</td>\n",
       "      <td>BOA</td>\n",
       "      <td>Google Play</td>\n",
       "    </tr>\n",
       "    <tr>\n",
       "      <th>...</th>\n",
       "      <td>...</td>\n",
       "      <td>...</td>\n",
       "      <td>...</td>\n",
       "      <td>...</td>\n",
       "      <td>...</td>\n",
       "    </tr>\n",
       "    <tr>\n",
       "      <th>1425</th>\n",
       "      <td>App That makes Difference!</td>\n",
       "      <td>5</td>\n",
       "      <td>2025-01-14</td>\n",
       "      <td>Dashen</td>\n",
       "      <td>Google Play</td>\n",
       "    </tr>\n",
       "    <tr>\n",
       "      <th>1426</th>\n",
       "      <td>Waw Great and innovated,user friendly, always ...</td>\n",
       "      <td>5</td>\n",
       "      <td>2025-01-13</td>\n",
       "      <td>Dashen</td>\n",
       "      <td>Google Play</td>\n",
       "    </tr>\n",
       "    <tr>\n",
       "      <th>1427</th>\n",
       "      <td>It's Best waww 🙏</td>\n",
       "      <td>5</td>\n",
       "      <td>2025-01-13</td>\n",
       "      <td>Dashen</td>\n",
       "      <td>Google Play</td>\n",
       "    </tr>\n",
       "    <tr>\n",
       "      <th>1428</th>\n",
       "      <td>Always one step ahead</td>\n",
       "      <td>5</td>\n",
       "      <td>2025-01-13</td>\n",
       "      <td>Dashen</td>\n",
       "      <td>Google Play</td>\n",
       "    </tr>\n",
       "    <tr>\n",
       "      <th>1429</th>\n",
       "      <td>Like Me, I Hope It Works Better Than Before.</td>\n",
       "      <td>5</td>\n",
       "      <td>2025-01-11</td>\n",
       "      <td>Dashen</td>\n",
       "      <td>Google Play</td>\n",
       "    </tr>\n",
       "  </tbody>\n",
       "</table>\n",
       "<p>1430 rows × 5 columns</p>\n",
       "</div>"
      ],
      "text/plain": [
       "                                            review_text  rating        date  \\\n",
       "0     Hello, I’m facing a problem with the BOA Mobil...       1  2025-06-03   \n",
       "1                       this is worest app 24/7 loading       1  2025-06-01   \n",
       "2     This App is not interest for Android phone Ple...       1  2025-06-01   \n",
       "3                             BoA system is confartable       5  2025-06-01   \n",
       "4                very nice Abyssinia bank is choice all       5  2025-05-31   \n",
       "...                                                 ...     ...         ...   \n",
       "1425                         App That makes Difference!       5  2025-01-14   \n",
       "1426  Waw Great and innovated,user friendly, always ...       5  2025-01-13   \n",
       "1427                                   It's Best waww 🙏       5  2025-01-13   \n",
       "1428                              Always one step ahead       5  2025-01-13   \n",
       "1429       Like Me, I Hope It Works Better Than Before.       5  2025-01-11   \n",
       "\n",
       "     bank_name       source  \n",
       "0          BOA  Google Play  \n",
       "1          BOA  Google Play  \n",
       "2          BOA  Google Play  \n",
       "3          BOA  Google Play  \n",
       "4          BOA  Google Play  \n",
       "...        ...          ...  \n",
       "1425    Dashen  Google Play  \n",
       "1426    Dashen  Google Play  \n",
       "1427    Dashen  Google Play  \n",
       "1428    Dashen  Google Play  \n",
       "1429    Dashen  Google Play  \n",
       "\n",
       "[1430 rows x 5 columns]"
      ]
     },
     "execution_count": 13,
     "metadata": {},
     "output_type": "execute_result"
    }
   ],
   "source": [
    "combined_df"
   ]
  },
  {
   "cell_type": "code",
   "execution_count": 17,
   "id": "df208c13",
   "metadata": {},
   "outputs": [
    {
     "name": "stdout",
     "output_type": "stream",
     "text": [
      "\n",
      "CBE Preprocessed Data Description:\n",
      "                            review_text      rating        date bank_name  \\\n",
      "count                               502  502.000000         502       502   \n",
      "unique                              502         NaN         129         1   \n",
      "top     wow . what i can say thank you.         NaN  2025-03-31       CBE   \n",
      "freq                                  1         NaN          25       502   \n",
      "mean                                NaN    3.735060         NaN       NaN   \n",
      "std                                 NaN    1.624269         NaN       NaN   \n",
      "min                                 NaN    1.000000         NaN       NaN   \n",
      "25%                                 NaN    2.000000         NaN       NaN   \n",
      "50%                                 NaN    5.000000         NaN       NaN   \n",
      "75%                                 NaN    5.000000         NaN       NaN   \n",
      "max                                 NaN    5.000000         NaN       NaN   \n",
      "\n",
      "             source  \n",
      "count           502  \n",
      "unique            1  \n",
      "top     Google Play  \n",
      "freq            502  \n",
      "mean            NaN  \n",
      "std             NaN  \n",
      "min             NaN  \n",
      "25%             NaN  \n",
      "50%             NaN  \n",
      "75%             NaN  \n",
      "max             NaN  \n",
      "Total reviews: 502\n",
      "Columns: ['review_text', 'rating', 'date', 'bank_name', 'source']\n",
      "\n",
      "\n",
      "Dashen Preprocessed Data Description:\n",
      "                                         review_text      rating        date  \\\n",
      "count                                            314  314.000000         314   \n",
      "unique                                           314         NaN          97   \n",
      "top     Like Me, I Hope It Works Better Than Before.         NaN  2025-04-21   \n",
      "freq                                               1         NaN          97   \n",
      "mean                                             NaN    4.391720         NaN   \n",
      "std                                              NaN    1.289944         NaN   \n",
      "min                                              NaN    1.000000         NaN   \n",
      "25%                                              NaN    5.000000         NaN   \n",
      "50%                                              NaN    5.000000         NaN   \n",
      "75%                                              NaN    5.000000         NaN   \n",
      "max                                              NaN    5.000000         NaN   \n",
      "\n",
      "       bank_name       source  \n",
      "count        314          314  \n",
      "unique         1            1  \n",
      "top       Dashen  Google Play  \n",
      "freq         314          314  \n",
      "mean         NaN          NaN  \n",
      "std          NaN          NaN  \n",
      "min          NaN          NaN  \n",
      "25%          NaN          NaN  \n",
      "50%          NaN          NaN  \n",
      "75%          NaN          NaN  \n",
      "max          NaN          NaN  \n",
      "Total reviews: 314\n",
      "Columns: ['review_text', 'rating', 'date', 'bank_name', 'source']\n",
      "\n",
      "\n",
      "BOA Preprocessed Data Description:\n",
      "                                              review_text      rating  \\\n",
      "count                                                 614  614.000000   \n",
      "unique                                                614         NaN   \n",
      "top     A massive improvement from the previous app. M...         NaN   \n",
      "freq                                                    1         NaN   \n",
      "mean                                                  NaN    2.447883   \n",
      "std                                                   NaN    1.763243   \n",
      "min                                                   NaN    1.000000   \n",
      "25%                                                   NaN    1.000000   \n",
      "50%                                                   NaN    1.000000   \n",
      "75%                                                   NaN    5.000000   \n",
      "max                                                   NaN    5.000000   \n",
      "\n",
      "              date bank_name       source  \n",
      "count          614       614          614  \n",
      "unique         281         1            1  \n",
      "top     2024-05-01       BOA  Google Play  \n",
      "freq            18       614          614  \n",
      "mean           NaN       NaN          NaN  \n",
      "std            NaN       NaN          NaN  \n",
      "min            NaN       NaN          NaN  \n",
      "25%            NaN       NaN          NaN  \n",
      "50%            NaN       NaN          NaN  \n",
      "75%            NaN       NaN          NaN  \n",
      "max            NaN       NaN          NaN  \n",
      "Total reviews: 614\n",
      "Columns: ['review_text', 'rating', 'date', 'bank_name', 'source']\n",
      "\n"
     ]
    }
   ],
   "source": [
    "# Data of  each bank after preprocessing \n",
    "for bank_name in banks.values():\n",
    "    bank_df = combined_df[combined_df['bank_name'] == bank_name]\n",
    "    print(f\"\\n{bank_name} Preprocessed Data Description:\")\n",
    "    print(bank_df.describe(include='all'))\n",
    "    print(f\"Total reviews: {len(bank_df)}\")\n",
    "    print(f\"Columns: {list(bank_df.columns)}\\n\")\n",
    "\n"
   ]
  }
 ],
 "metadata": {
  "kernelspec": {
   "display_name": ".venv",
   "language": "python",
   "name": "python3"
  },
  "language_info": {
   "codemirror_mode": {
    "name": "ipython",
    "version": 3
   },
   "file_extension": ".py",
   "mimetype": "text/x-python",
   "name": "python",
   "nbconvert_exporter": "python",
   "pygments_lexer": "ipython3",
   "version": "3.13.3"
  }
 },
 "nbformat": 4,
 "nbformat_minor": 5
}
