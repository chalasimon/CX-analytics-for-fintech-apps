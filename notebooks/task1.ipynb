{
 "cells": [
  {
   "cell_type": "markdown",
   "id": "5072d0a3",
   "metadata": {},
   "source": [
    "# Task 1: Data Preparation and Cleaning "
   ]
  },
  {
   "cell_type": "code",
   "execution_count": 1,
   "id": "28d60ea2",
   "metadata": {},
   "outputs": [],
   "source": [
    "import sys\n",
    "import os\n",
    "from pathlib import Path\n",
    "from importlib import reload\n",
    "# add the project root to the path\n",
    "project_root = Path(\"..\").resolve()\n",
    "if str(project_root) not in sys.path:\n",
    "    sys.path.insert(0, str(project_root))"
   ]
  },
  {
   "cell_type": "code",
   "execution_count": 2,
   "id": "1c5ae7f4",
   "metadata": {},
   "outputs": [
    {
     "data": {
      "text/plain": [
       "<module 'src.play_store_scraper' from 'D:\\\\Research & Project\\\\10academy\\\\week 2\\\\challenge\\\\CX-analytics-for-fintech-apps\\\\src\\\\play_store_scraper.py'>"
      ]
     },
     "execution_count": 2,
     "metadata": {},
     "output_type": "execute_result"
    }
   ],
   "source": [
    "# import the scraper module\n",
    "from src.play_store_scraper import PlayStoreScraper\n",
    "import src.play_store_scraper\n",
    "# reload the module to ensure we have the latest version\n",
    "reload(src.play_store_scraper)"
   ]
  },
  {
   "cell_type": "code",
   "execution_count": 3,
   "id": "11b6dff2",
   "metadata": {},
   "outputs": [],
   "source": [
    "# Define app IDs and corresponding bank names\n",
    "banks = {\n",
    "    'com.combanketh.mobilebanking': 'CBE',\n",
    "    'com.dashen.dashensuperapp': 'Dashen',\n",
    "    'com.boa.boaMobileBanking': 'BOA'\n",
    "}"
   ]
  },
  {
   "cell_type": "code",
   "execution_count": 4,
   "id": "db436ced",
   "metadata": {},
   "outputs": [
    {
     "name": "stdout",
     "output_type": "stream",
     "text": [
      "Scraping for: CBE\n",
      "Done scraping for: CBE\n",
      "\n",
      "Scraping for: Dashen\n",
      "Done scraping for: Dashen\n",
      "\n",
      "Scraping for: BOA\n",
      "Done scraping for: BOA\n",
      "\n"
     ]
    }
   ],
   "source": [
    "# Loop through each bank and scrape\n",
    "for app_id, bank_name in banks.items():\n",
    "    print(f\"Scraping for: {bank_name}\")\n",
    "    scraper = PlayStoreScraper(app_id)\n",
    "    reviews = scraper.get_reviews(num_reviews=1000)  # or 4000 as needed\n",
    "    scraper.save_reviews_to_csv(reviews, bank_name)\n",
    "    print(f\"Done scraping for: {bank_name}\\n\")"
   ]
  }
 ],
 "metadata": {
  "kernelspec": {
   "display_name": ".venv",
   "language": "python",
   "name": "python3"
  },
  "language_info": {
   "codemirror_mode": {
    "name": "ipython",
    "version": 3
   },
   "file_extension": ".py",
   "mimetype": "text/x-python",
   "name": "python",
   "nbconvert_exporter": "python",
   "pygments_lexer": "ipython3",
   "version": "3.13.3"
  }
 },
 "nbformat": 4,
 "nbformat_minor": 5
}
