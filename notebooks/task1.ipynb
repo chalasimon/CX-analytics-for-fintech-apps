{
 "cells": [
  {
   "cell_type": "markdown",
   "id": "5072d0a3",
   "metadata": {},
   "source": [
    "# Task 1: Data Preparation and Cleaning "
   ]
  },
  {
   "cell_type": "code",
   "execution_count": 32,
   "id": "dd8d6663",
   "metadata": {},
   "outputs": [],
   "source": [
    "import sys\n",
    "import os\n",
    "import pandas as pd"
   ]
  },
  {
   "cell_type": "code",
   "execution_count": 33,
   "id": "28d60ea2",
   "metadata": {},
   "outputs": [],
   "source": [
    "from pathlib import Path\n",
    "from importlib import reload\n",
    "# add the project root to the path\n",
    "project_root = Path(\"..\").resolve()\n",
    "if str(project_root) not in sys.path:\n",
    "    sys.path.insert(0, str(project_root))"
   ]
  },
  {
   "cell_type": "markdown",
   "id": "d9aa20e0",
   "metadata": {},
   "source": [
    "## Web Scraping"
   ]
  },
  {
   "cell_type": "code",
   "execution_count": 2,
   "id": "1c5ae7f4",
   "metadata": {},
   "outputs": [
    {
     "data": {
      "text/plain": [
       "<module 'src.play_store_scraper' from 'D:\\\\Research & Project\\\\10academy\\\\week 2\\\\challenge\\\\CX-analytics-for-fintech-apps\\\\src\\\\play_store_scraper.py'>"
      ]
     },
     "execution_count": 2,
     "metadata": {},
     "output_type": "execute_result"
    }
   ],
   "source": [
    "# import the scraper module\n",
    "from src.play_store_scraper import PlayStoreScraper\n",
    "import src.play_store_scraper\n",
    "# reload the module to ensure we have the latest version\n",
    "reload(src.play_store_scraper)"
   ]
  },
  {
   "cell_type": "code",
   "execution_count": 3,
   "id": "11b6dff2",
   "metadata": {},
   "outputs": [],
   "source": [
    "# Define app IDs and corresponding bank names\n",
    "banks = {\n",
    "    'com.combanketh.mobilebanking': 'CBE',\n",
    "    'com.dashen.dashensuperapp': 'Dashen',\n",
    "    'com.boa.boaMobileBanking': 'BOA'\n",
    "}"
   ]
  },
  {
   "cell_type": "code",
   "execution_count": 4,
   "id": "db436ced",
   "metadata": {},
   "outputs": [
    {
     "name": "stdout",
     "output_type": "stream",
     "text": [
      "Scraping for: CBE\n",
      "Done scraping for: CBE\n",
      "\n",
      "Scraping for: Dashen\n",
      "Done scraping for: Dashen\n",
      "\n",
      "Scraping for: BOA\n",
      "Done scraping for: BOA\n",
      "\n"
     ]
    }
   ],
   "source": [
    "# Loop through each bank and scrape\n",
    "for app_id, bank_name in banks.items():\n",
    "    print(f\"Scraping for: {bank_name}\")\n",
    "    scraper = PlayStoreScraper(app_id)\n",
    "    reviews = scraper.get_reviews(num_reviews=1000)  # or 4000 as needed\n",
    "    scraper.save_reviews_to_csv(reviews, bank_name)\n",
    "    print(f\"Done scraping for: {bank_name}\\n\")"
   ]
  },
  {
   "cell_type": "markdown",
   "id": "cb59566d",
   "metadata": {},
   "source": [
    "## Preprocessing Steps"
   ]
  },
  {
   "cell_type": "markdown",
   "id": "c8f6985c",
   "metadata": {},
   "source": [
    "#### Loading the Data"
   ]
  },
  {
   "cell_type": "code",
   "execution_count": 34,
   "id": "eba48fc6",
   "metadata": {},
   "outputs": [
    {
     "data": {
      "text/plain": [
       "<module 'src.data_loader' from 'D:\\\\Research & Project\\\\10academy\\\\week 2\\\\challenge\\\\CX-analytics-for-fintech-apps\\\\src\\\\data_loader.py'>"
      ]
     },
     "execution_count": 34,
     "metadata": {},
     "output_type": "execute_result"
    }
   ],
   "source": [
    "# In this task, we will prepare and clean the dataset for further analysis.\n",
    "# First, we will load the module for data loading \n",
    "from src.data_loader import DataLoader\n",
    "import src.data_loader\n",
    "reload(src.data_loader)"
   ]
  },
  {
   "cell_type": "code",
   "execution_count": 35,
   "id": "40626332",
   "metadata": {},
   "outputs": [
    {
     "name": "stdout",
     "output_type": "stream",
     "text": [
      "Loaded BOA_reviews_20250607_230525.csv with 1000 records.\n",
      "Loaded CBE_reviews_20250607_230522.csv with 1000 records.\n",
      "Loaded Dashen_reviews_20250607_230524.csv with 448 records.\n"
     ]
    },
    {
     "data": {
      "application/vnd.microsoft.datawrangler.viewer.v0+json": {
       "columns": [
        {
         "name": "index",
         "rawType": "int64",
         "type": "integer"
        },
        {
         "name": "review_text",
         "rawType": "object",
         "type": "string"
        },
        {
         "name": "rating",
         "rawType": "int64",
         "type": "integer"
        },
        {
         "name": "date",
         "rawType": "object",
         "type": "string"
        },
        {
         "name": "bank_name",
         "rawType": "object",
         "type": "string"
        },
        {
         "name": "source",
         "rawType": "object",
         "type": "string"
        }
       ],
       "ref": "616dd5f9-d42e-4bc7-ac89-302e9d67bf3d",
       "rows": [
        [
         "0",
         "\"Why don’t your ATMs support account-to-account transfers like other countries( Kenya, Nigeria , South africa)\"",
         "4",
         "2025-06-06",
         "CBE",
         "Google Play"
        ],
        [
         "1",
         "what is this app problem???",
         "1",
         "2025-06-05",
         "CBE",
         "Google Play"
        ],
        [
         "2",
         "the app is proactive and a good connections.",
         "5",
         "2025-06-05",
         "CBE",
         "Google Play"
        ],
        [
         "3",
         "I cannot send to cbebirr app. through this app.",
         "3",
         "2025-06-05",
         "CBE",
         "Google Play"
        ],
        [
         "4",
         "good",
         "4",
         "2025-06-05",
         "CBE",
         "Google Play"
        ]
       ],
       "shape": {
        "columns": 5,
        "rows": 5
       }
      },
      "text/html": [
       "<div>\n",
       "<style scoped>\n",
       "    .dataframe tbody tr th:only-of-type {\n",
       "        vertical-align: middle;\n",
       "    }\n",
       "\n",
       "    .dataframe tbody tr th {\n",
       "        vertical-align: top;\n",
       "    }\n",
       "\n",
       "    .dataframe thead th {\n",
       "        text-align: right;\n",
       "    }\n",
       "</style>\n",
       "<table border=\"1\" class=\"dataframe\">\n",
       "  <thead>\n",
       "    <tr style=\"text-align: right;\">\n",
       "      <th></th>\n",
       "      <th>review_text</th>\n",
       "      <th>rating</th>\n",
       "      <th>date</th>\n",
       "      <th>bank_name</th>\n",
       "      <th>source</th>\n",
       "    </tr>\n",
       "  </thead>\n",
       "  <tbody>\n",
       "    <tr>\n",
       "      <th>0</th>\n",
       "      <td>\"Why don’t your ATMs support account-to-accoun...</td>\n",
       "      <td>4</td>\n",
       "      <td>2025-06-06</td>\n",
       "      <td>CBE</td>\n",
       "      <td>Google Play</td>\n",
       "    </tr>\n",
       "    <tr>\n",
       "      <th>1</th>\n",
       "      <td>what is this app problem???</td>\n",
       "      <td>1</td>\n",
       "      <td>2025-06-05</td>\n",
       "      <td>CBE</td>\n",
       "      <td>Google Play</td>\n",
       "    </tr>\n",
       "    <tr>\n",
       "      <th>2</th>\n",
       "      <td>the app is proactive and a good connections.</td>\n",
       "      <td>5</td>\n",
       "      <td>2025-06-05</td>\n",
       "      <td>CBE</td>\n",
       "      <td>Google Play</td>\n",
       "    </tr>\n",
       "    <tr>\n",
       "      <th>3</th>\n",
       "      <td>I cannot send to cbebirr app. through this app.</td>\n",
       "      <td>3</td>\n",
       "      <td>2025-06-05</td>\n",
       "      <td>CBE</td>\n",
       "      <td>Google Play</td>\n",
       "    </tr>\n",
       "    <tr>\n",
       "      <th>4</th>\n",
       "      <td>good</td>\n",
       "      <td>4</td>\n",
       "      <td>2025-06-05</td>\n",
       "      <td>CBE</td>\n",
       "      <td>Google Play</td>\n",
       "    </tr>\n",
       "  </tbody>\n",
       "</table>\n",
       "</div>"
      ],
      "text/plain": [
       "                                         review_text  rating        date  \\\n",
       "0  \"Why don’t your ATMs support account-to-accoun...       4  2025-06-06   \n",
       "1                        what is this app problem???       1  2025-06-05   \n",
       "2       the app is proactive and a good connections.       5  2025-06-05   \n",
       "3    I cannot send to cbebirr app. through this app.       3  2025-06-05   \n",
       "4                                               good       4  2025-06-05   \n",
       "\n",
       "  bank_name       source  \n",
       "0       CBE  Google Play  \n",
       "1       CBE  Google Play  \n",
       "2       CBE  Google Play  \n",
       "3       CBE  Google Play  \n",
       "4       CBE  Google Play  "
      ]
     },
     "execution_count": 35,
     "metadata": {},
     "output_type": "execute_result"
    }
   ],
   "source": [
    "# initialize the data loader for the raw data directory\n",
    "# Define path to your raw data folder\n",
    "data_dir = '../data/raw'\n",
    "loader = DataLoader(data_dir)\n",
    "# List all CSV files in the raw data directory\n",
    "csv_files=[f for f in os.listdir(data_dir) if f.endswith('.csv')]\n",
    "# Load all CSV files into a single Dictionary of DataFrames\n",
    "bank_reviews = {}\n",
    "\n",
    "# Load each CSV and store in the dictionary\n",
    "for filename in csv_files:\n",
    "    try:\n",
    "        df = loader.load_data(filename)\n",
    "        # Extract bank name from filename (e.g., \"CBE_reviews_20250607_153045.csv\")\n",
    "        bank_name = filename.split('_reviews_')[0]\n",
    "        bank_reviews[bank_name] = df\n",
    "        print(f\"Loaded {filename} with {len(df)} records.\")\n",
    "    except Exception as e:\n",
    "        print(f\"Failed to load {filename}: {e}\")\n",
    "\n",
    "# Example: Display the first few rows of CBE data\n",
    "bank_reviews['CBE'].head(5)"
   ]
  },
  {
   "cell_type": "code",
   "execution_count": 36,
   "id": "433177b0",
   "metadata": {},
   "outputs": [
    {
     "name": "stdout",
     "output_type": "stream",
     "text": [
      "\n",
      "BOA Data Description:\n",
      "       review_text       rating        date bank_name       source\n",
      "count         1000  1000.000000        1000      1000         1000\n",
      "unique         856          NaN         367         1            1\n",
      "top           Good          NaN  2024-05-02       BOA  Google Play\n",
      "freq            43          NaN          23      1000         1000\n",
      "mean           NaN     3.020000         NaN       NaN          NaN\n",
      "std            NaN     1.859855         NaN       NaN          NaN\n",
      "min            NaN     1.000000         NaN       NaN          NaN\n",
      "25%            NaN     1.000000         NaN       NaN          NaN\n",
      "50%            NaN     3.000000         NaN       NaN          NaN\n",
      "75%            NaN     5.000000         NaN       NaN          NaN\n",
      "max            NaN     5.000000         NaN       NaN          NaN\n",
      "Total reviews: 1000\n",
      "Columns: ['review_text', 'rating', 'date', 'bank_name', 'source']\n",
      "\n",
      "\n",
      "CBE Data Description:\n",
      "       review_text       rating        date bank_name       source\n",
      "count         1000  1000.000000        1000      1000         1000\n",
      "unique         741          NaN         131         1            1\n",
      "top           good          NaN  2025-03-31       CBE  Google Play\n",
      "freq            52          NaN          52      1000         1000\n",
      "mean           NaN     4.141000         NaN       NaN          NaN\n",
      "std            NaN     1.433588         NaN       NaN          NaN\n",
      "min            NaN     1.000000         NaN       NaN          NaN\n",
      "25%            NaN     4.000000         NaN       NaN          NaN\n",
      "50%            NaN     5.000000         NaN       NaN          NaN\n",
      "75%            NaN     5.000000         NaN       NaN          NaN\n",
      "max            NaN     5.000000         NaN       NaN          NaN\n",
      "Total reviews: 1000\n",
      "Columns: ['review_text', 'rating', 'date', 'bank_name', 'source']\n",
      "\n",
      "\n",
      "Dashen Data Description:\n",
      "       review_text      rating        date bank_name       source\n",
      "count          448  448.000000         448       448          448\n",
      "unique         407         NaN         118         1            1\n",
      "top           good         NaN  2025-04-21    Dashen  Google Play\n",
      "freq            11         NaN         106       448          448\n",
      "mean           NaN    4.475446         NaN       NaN          NaN\n",
      "std            NaN    1.201909         NaN       NaN          NaN\n",
      "min            NaN    1.000000         NaN       NaN          NaN\n",
      "25%            NaN    5.000000         NaN       NaN          NaN\n",
      "50%            NaN    5.000000         NaN       NaN          NaN\n",
      "75%            NaN    5.000000         NaN       NaN          NaN\n",
      "max            NaN    5.000000         NaN       NaN          NaN\n",
      "Total reviews: 448\n",
      "Columns: ['review_text', 'rating', 'date', 'bank_name', 'source']\n",
      "\n"
     ]
    }
   ],
   "source": [
    "# describe the data for each bank\n",
    "for bank_name, df in bank_reviews.items():\n",
    "    print(f\"\\n{bank_name} Data Description:\")\n",
    "    print(df.describe(include='all'))  # include='all' to get stats for all columns\n",
    "    print(f\"Total reviews: {len(df)}\")\n",
    "    print(f\"Columns: {list(df.columns)}\\n\")"
   ]
  },
  {
   "cell_type": "markdown",
   "id": "dbc72230",
   "metadata": {},
   "source": [
    "#### Removing Duplicates and Handling Missing Values"
   ]
  },
  {
   "cell_type": "code",
   "execution_count": 37,
   "id": "df23c410",
   "metadata": {},
   "outputs": [
    {
     "data": {
      "text/plain": [
       "<module 'src.preprocessing' from 'D:\\\\Research & Project\\\\10academy\\\\week 2\\\\challenge\\\\CX-analytics-for-fintech-apps\\\\src\\\\preprocessing.py'>"
      ]
     },
     "execution_count": 37,
     "metadata": {},
     "output_type": "execute_result"
    }
   ],
   "source": [
    "# Load the preprocessing module\n",
    "from src.preprocessing import Preprocessor\n",
    "import src.preprocessing\n",
    "# Reload the module to ensure we have the latest version\n",
    "reload(src.preprocessing)"
   ]
  }
 ],
 "metadata": {
  "kernelspec": {
   "display_name": ".venv",
   "language": "python",
   "name": "python3"
  },
  "language_info": {
   "codemirror_mode": {
    "name": "ipython",
    "version": 3
   },
   "file_extension": ".py",
   "mimetype": "text/x-python",
   "name": "python",
   "nbconvert_exporter": "python",
   "pygments_lexer": "ipython3",
   "version": "3.13.3"
  }
 },
 "nbformat": 4,
 "nbformat_minor": 5
}
